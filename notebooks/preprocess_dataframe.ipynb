{
 "cells": [
  {
   "cell_type": "code",
   "execution_count": null,
   "metadata": {},
   "outputs": [],
   "source": [
    "import pandas as pd\n",
    "from os import walk"
   ]
  },
  {
   "cell_type": "code",
   "execution_count": null,
   "metadata": {},
   "outputs": [],
   "source": [
    "datasets_names = []\n",
    "path_df = '../datasets/original_files/'\n",
    "for (dirpath, dirnames, filenames) in walk(path_df):\n",
    "    datasets_names.extend(filenames)\n",
    "    break\n",
    "datasets_names"
   ]
  },
  {
   "cell_type": "code",
   "execution_count": null,
   "metadata": {
    "scrolled": true
   },
   "outputs": [],
   "source": [
    "dataFrame = False\n",
    "first = True\n",
    "for name in datasets_names:\n",
    "    if(first):\n",
    "        first = False\n",
    "        dataFrame = pd.read_csv(path_df+name, compression='gzip')\n",
    "        dataFrame.set_index('id', drop=False, inplace=True)\n",
    "        print(name,'adding', len(dataFrame), 'rows')\n",
    "    else:\n",
    "        _tmpDf = pd.read_csv(path_df+name, compression='gzip')\n",
    "        _tmpDf.set_index('id', drop=False, inplace=True)\n",
    "        print(name,'adding', len(_tmpDf), 'rows')\n",
    "        dataFrame = pd.concat([dataFrame, _tmpDf])\n",
    "        del _tmpDf\n",
    "print('total rows:', len(dataFrame))\n",
    "dataFrame.head()"
   ]
  },
  {
   "cell_type": "markdown",
   "metadata": {},
   "source": [
    "# Categorizando Columnas"
   ]
  },
  {
   "cell_type": "code",
   "execution_count": null,
   "metadata": {},
   "outputs": [],
   "source": [
    "text_cols = [\"name\",\"summary\",\"space\",\"description\",\"neighborhood_overview\",\"notes\",\"transit\",\"access\",\n",
    "             \"interaction\",\"house_rules\",\"host_about\"];\n",
    "dummyable_cols = [\"instant_bookable\",\"is_business_travel_ready\",\"cancellation_policy\",\n",
    "                  \"require_guest_phone_verification\",\"calculated_host_listings_count\",\n",
    "                  \"calculated_host_listings_count_entire_homes\",\"review_scores_communication\",\n",
    "                  \"review_scores_location\",\"review_scores_value\",\"requires_license\",\n",
    "                  \"require_guest_profile_picture\",\"calculated_host_listings_count_private_rooms\",\n",
    "                  \"host_location\",\"host_response_time\",\n",
    "                 \"calculated_host_listings_count_shared_rooms\",\"host_is_superhost\",\"host_neighbourhood\",\n",
    "                 \"host_listings_count\",\"host_has_profile_pic\",\"host_identity_verified\",\n",
    "                 \"has_availability\",\"number_of_reviews\",\"neighbourhood_cleansed\",\"city\",\"state\",\"market\",\n",
    "                  \"country_code\",\"property_type\",\"room_type\",\"accommodates\",\"bathrooms\",\n",
    "                 \"bedrooms\",\"beds\",\"bed_type\",\"guests_included\"];\n",
    "dropeable_cols = [\"id\",\"listing_url\",\"scrape_id\",\"last_scraped\",\"thumbnail_url\",\"medium_url\",\n",
    "                  \"picture_url\",\"xl_picture_url\",\"host_url\",\"host_name\",\"host_id\",\"host_thumbnail_url\",\n",
    "                 \"host_picture_url\",\"host_total_listings_count\",\"calendar_updated\",\"calendar_last_scraped\",\n",
    "                  \"neighbourhood\",\"neighbourhood_group_cleansed\",\"zipcode\",\"smart_location\",\"country\",\n",
    "                 \"experiences_offered\"];\n",
    "continuos_cols = [\"reviews_per_month\",\"host_response_rate\",\"host_acceptance_rate\",\n",
    "                  \"number_of_reviews_ltm\",\"review_scores_rating\",\"review_scores_cleanliness\",\n",
    "                  \"review_scores_checkin\",\"availability_30\",\"availability_60\",\"availability_90\",\"availability_365\",\n",
    "                 \"review_scores_accuracy\",\"minimum_nights\",\"maximum_nights\",\"minimum_minimum_nights\",\n",
    "                  \"maximum_minimum_nights\",\"minimum_maximum_nights\",\"maximum_maximum_nights\",\n",
    "                  \"minimum_nights_avg_ntm\",\"maximum_nights_avg_ntm\"]\n",
    "date_cols = [\"host_since\",\"first_review\",\"last_review\"]\n",
    "explotable_cols = [\"street\",\"host_verifications\",\"jurisdiction_names\",\"amenities\"]\n",
    "geo_cols = [\"latitude\",\"longitude\",\"is_location_exact\"]\n",
    "\n",
    "target_col = [\"price\",\"weekly_price\",\"monthly_price\",\"security_deposit\",\"cleaning_fee\",\"extra_people\"]\n",
    "#license ?"
   ]
  },
  {
   "cell_type": "code",
   "execution_count": null,
   "metadata": {},
   "outputs": [],
   "source": [
    "#dataFrame.drop(text_cols,axis=1,inplace=True);\n",
    "#dataFrame.drop(dummyable_cols,axis=1,inplace=True);\n",
    "#dataFrame.drop(dropeable_cols,axis=1,inplace=True);\n",
    "#dataFrame.drop(continuos_cols,axis=1,inplace=True);\n",
    "#dataFrame.drop(date_cols,axis=1,inplace=True);\n",
    "#dataFrame.drop(explotable_cols,axis=1,inplace=True);\n",
    "#dataFrame.drop(geo_cols,axis=1,inplace=True);\n",
    "\n",
    "#dataFrame.drop(target_col,axis=1,inplace=True);"
   ]
  },
  {
   "cell_type": "markdown",
   "metadata": {},
   "source": [
    "# Ejemplos de las columnas categorizadas"
   ]
  },
  {
   "cell_type": "code",
   "execution_count": null,
   "metadata": {},
   "outputs": [],
   "source": [
    "#Columnas detectadas como texto\n",
    "dataFrame.sample(5).loc[:,text_cols].T"
   ]
  },
  {
   "cell_type": "code",
   "execution_count": null,
   "metadata": {},
   "outputs": [],
   "source": [
    "#Columnas detectadas como candidatas para hacer Dummies\n",
    "dataFrame.sample(5).loc[:,dummyable_cols].T"
   ]
  },
  {
   "cell_type": "code",
   "execution_count": null,
   "metadata": {},
   "outputs": [],
   "source": [
    "#Columnas a ser dropeadas directamente\n",
    "dataFrame.sample(5).loc[:,dropeable_cols].T"
   ]
  },
  {
   "cell_type": "code",
   "execution_count": null,
   "metadata": {},
   "outputs": [],
   "source": [
    "#Columnas detectadas como valores continuos, para reescalar\n",
    "dataFrame.sample(5).loc[:,continuos_cols].T"
   ]
  },
  {
   "cell_type": "code",
   "execution_count": null,
   "metadata": {
    "scrolled": true
   },
   "outputs": [],
   "source": [
    "#Columnas detectadas como fecha \n",
    "dataFrame.sample(5).loc[:,date_cols].T"
   ]
  },
  {
   "cell_type": "code",
   "execution_count": null,
   "metadata": {},
   "outputs": [],
   "source": [
    "#Columnas que habria que trabajar para separarles los datos\n",
    "dataFrame.sample(5).loc[:,explotable_cols].T"
   ]
  },
  {
   "cell_type": "code",
   "execution_count": null,
   "metadata": {},
   "outputs": [],
   "source": [
    "#Columnas detectadas como informacion de geolocalizacion\n",
    "dataFrame.sample(5).loc[:,geo_cols].T"
   ]
  },
  {
   "cell_type": "code",
   "execution_count": null,
   "metadata": {},
   "outputs": [],
   "source": [
    "#Columnas detectadas como que pueden filtrar informacion del target\n",
    "dataFrame.sample(5).loc[:,target_col].T"
   ]
  },
  {
   "cell_type": "markdown",
   "metadata": {},
   "source": [
    "# Test de modelado solo con Dummies"
   ]
  },
  {
   "cell_type": "code",
   "execution_count": null,
   "metadata": {},
   "outputs": [],
   "source": [
    "# drop outliers\n",
    "dataFrame[\"price\"]=dataFrame[\"price\"].str.replace('$', '').str.replace(',', '').astype(float)\n",
    "\n",
    "Q1 = dataFrame[\"price\"].quantile(0.02)\n",
    "Q3 = dataFrame[\"price\"].quantile(0.98)\n",
    "\n",
    "dataFrame.drop(dataFrame[dataFrame[\"price\"] > Q3].index,axis=0,inplace=True);\n",
    "dataFrame.drop(dataFrame[dataFrame[\"price\"] < Q1].index,axis=0,inplace=True);\n",
    "\n",
    "dataFrame[\"price\"].describe()"
   ]
  },
  {
   "cell_type": "code",
   "execution_count": null,
   "metadata": {},
   "outputs": [],
   "source": [
    "import numpy as np\n",
    "\n",
    "# generamos las dummies y limpiamos el vector target\n",
    "X = pd.get_dummies(dataFrame[dummyable_cols].astype(str), drop_first=True).reset_index(drop=True)\n",
    "y = dataFrame[\"price\"].reset_index(drop=True);\n",
    "X.shape"
   ]
  },
  {
   "cell_type": "code",
   "execution_count": null,
   "metadata": {},
   "outputs": [],
   "source": [
    "# separamos entrenamiento y test\n",
    "from sklearn.model_selection import train_test_split\n",
    "train_data, val_data, train_targets, val_targets = train_test_split(X, y, test_size=0.2, random_state=42)\n",
    "\n",
    "train_data.shape"
   ]
  },
  {
   "cell_type": "code",
   "execution_count": null,
   "metadata": {},
   "outputs": [],
   "source": [
    "train_targets"
   ]
  },
  {
   "cell_type": "code",
   "execution_count": null,
   "metadata": {},
   "outputs": [],
   "source": [
    "from keras.models import Sequential\n",
    "from keras.layers import Dense\n",
    "from keras import regularizers\n",
    "\n",
    "model = Sequential()\n",
    "model.add(Dense(50, activation='relu', input_shape=(train_data.shape[1],),kernel_regularizer=regularizers.l1(0.001)))\n",
    "model.add(Dense(50, activation='relu',kernel_regularizer=regularizers.l1(0.001)))\n",
    "model.add(Dense(50, activation='relu',kernel_regularizer=regularizers.l1(0.001)))\n",
    "model.add(Dense(1,kernel_regularizer=regularizers.l1(0.001)))\n",
    "model.compile(optimizer='rmsprop', loss='mean_squared_error', metrics=['mae'])\n",
    "model.fit(train_data, train_targets,epochs=5, batch_size=500, verbose=1)"
   ]
  },
  {
   "cell_type": "code",
   "execution_count": null,
   "metadata": {},
   "outputs": [],
   "source": [
    "model.evaluate(val_data, val_targets, verbose=0)"
   ]
  }
 ],
 "metadata": {
  "kernelspec": {
   "display_name": "Python 3",
   "language": "python",
   "name": "python3"
  },
  "language_info": {
   "codemirror_mode": {
    "name": "ipython",
    "version": 3
   },
   "file_extension": ".py",
   "mimetype": "text/x-python",
   "name": "python",
   "nbconvert_exporter": "python",
   "pygments_lexer": "ipython3",
   "version": "3.7.5"
  }
 },
 "nbformat": 4,
 "nbformat_minor": 2
}
